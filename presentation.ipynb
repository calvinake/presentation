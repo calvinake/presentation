{
 "cells": [
  {
   "cell_type": "code",
   "execution_count": 5,
   "id": "91c2ae27-992e-4bcc-9728-254174b8880e",
   "metadata": {},
   "outputs": [],
   "source": [
    "%matplotlib inline\n",
    "\n",
    "import matplotlib.pylab as plt\n",
    "import numpy as np"
   ]
  },
  {
   "cell_type": "code",
   "execution_count": 6,
   "id": "9de4597b-4411-4e9f-8091-ac7aa04c60e8",
   "metadata": {},
   "outputs": [
    {
     "name": "stdin",
     "output_type": "stream",
     "text": [
      "ID AKEBRI1383803\n"
     ]
    },
    {
     "name": "stdout",
     "output_type": "stream",
     "text": [
      "sorry\n"
     ]
    },
    {
     "name": "stdin",
     "output_type": "stream",
     "text": [
      "ID AKEBRISS1383803\n"
     ]
    },
    {
     "name": "stdout",
     "output_type": "stream",
     "text": [
      "BRIO are requierd to have a teacher avaleable.\n"
     ]
    }
   ],
   "source": [
    "Password=None\n",
    "while Password != \"AKEBRISS1383803\":\n",
    "   Password = input(\"ID\")\n",
    "   if Password != \"AKEBRISS1383803\":\n",
    "        print(\"sorry\")\n",
    "print(\"BRIO are requierd to have a teacher avaleable.\")"
   ]
  },
  {
   "cell_type": "code",
   "execution_count": 10,
   "id": "928e14e5-4ec6-42a5-a19f-9011811034d1",
   "metadata": {},
   "outputs": [
    {
     "name": "stdin",
     "output_type": "stream",
     "text": [
      "Is your favorite drink Chocolate Milk? 1\n",
      "Is your favorite drink Strawberry Milk? 1\n",
      "Is your favorite drink Milk? 1\n",
      "Is your favorite drink Slushy? 10\n",
      "Is your favorite drink Juice? 1111\n"
     ]
    }
   ],
   "source": [
    "drinks = [\"Chocolate Milk\", \"Strawberry Milk\", \"Milk\", \"Slushy\", \"Juice\"]\n",
    "answers = []\n",
    "for drink in drinks:\n",
    "    answer = int(input(f\"Is your favorite drink {drink}?\"))\n",
    "    answers.append(answer)"
   ]
  },
  {
   "cell_type": "code",
   "execution_count": 11,
   "id": "148bbc73-1414-4daa-86c4-04c85c9afe68",
   "metadata": {},
   "outputs": [
    {
     "data": {
      "text/plain": [
       "[1, 1, 1, 10, 1111]"
      ]
     },
     "execution_count": 11,
     "metadata": {},
     "output_type": "execute_result"
    }
   ],
   "source": [
    "answers"
   ]
  },
  {
   "cell_type": "code",
   "execution_count": 12,
   "id": "74f6e275-e79b-4fdf-9660-d04ac0ebd7f0",
   "metadata": {},
   "outputs": [
    {
     "data": {
      "text/plain": [
       "<BarContainer object of 5 artists>"
      ]
     },
     "execution_count": 12,
     "metadata": {},
     "output_type": "execute_result"
    },
    {
     "data": {
      "image/png": "[encoded data removed]",
      "text/plain": [
       "<Figure size 640x480 with 1 Axes>"
      ]
     },
     "metadata": {},
     "output_type": "display_data"
    }
   ],
   "source": [
    "plt.bar(drinks, answers)"
   ]
  },
  {
   "cell_type": "code",
   "execution_count": 14,
   "id": "7b024227-0c7e-46d5-9129-0562736aa425",
   "metadata": {},
   "outputs": [
    {
     "name": "stdout",
     "output_type": "stream",
     "text": [
      "Now we will asses\n"
     ]
    },
    {
     "name": "stdin",
     "output_type": "stream",
     "text": [
      "print function print(\"100\")\n",
      "class names liam\n",
      "rating 100000000000000/???\n",
      "class names \n",
      "rating \n",
      "class names \n",
      "rating \n",
      "class names \n",
      "rating \n",
      "class names \n",
      "rating \n",
      "class names \n",
      "rating \n",
      "class names \n",
      "rating \n",
      "class names \n",
      "rating \n",
      "class names \n",
      "rating \n",
      "class names \n",
      "rating \n"
     ]
    },
    {
     "name": "stdout",
     "output_type": "stream",
     "text": [
      "my rating\n",
      "\n"
     ]
    }
   ],
   "source": [
    "river_kids=100\n",
    "print(\"Now we will asses\")\n",
    "river_kids = input(\"print function\")\n",
    "for i in range(10):\n",
    "    river_kids = input(\"class names\")\n",
    "    river_kids = input(\"rating\")\n",
    "print(\"my rating\")\n",
    "print(river_kids)"
   ]
  },
  {
   "cell_type": "code",
   "execution_count": null,
   "id": "23c3d4c9-7e23-46e8-9a28-76162a794550",
   "metadata": {},
   "outputs": [],
   "source": [
    "print(\"done\")"
   ]
  }
 ],
 "metadata": {
  "kernelspec": {
   "display_name": "Python 3 (ipykernel)",
   "language": "python",
   "name": "python3"
  },
  "language_info": {
   "codemirror_mode": {
    "name": "ipython",
    "version": 3
   },
   "file_extension": ".py",
   "mimetype": "text/x-python",
   "name": "python",
   "nbconvert_exporter": "python",
   "pygments_lexer": "ipython3",
   "version": "3.12.7"
  }
 },
 "nbformat": 4,
 "nbformat_minor": 5
}
